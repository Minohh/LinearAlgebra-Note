{
 "cells": [
  {
   "cell_type": "markdown",
   "metadata": {},
   "source": [
    "# Definition\n",
    "\n",
    "SVD is the final and best factorization of a matrix. Because $A$ can be any matrix, and $A$ can be factorized to the product of orthogonal matrix, diagonal matrix and orthogonal matrix.\n",
    "\n",
    "$$A = U\\Sigma V^T$$\n",
    "\n",
    "# \n"
   ]
  },
  {
   "cell_type": "code",
   "execution_count": 2,
   "metadata": {},
   "outputs": [
    {
     "name": "stdout",
     "output_type": "stream",
     "text": [
      "\n",
      " Original matrix A is\n",
      "[[1 8 1 8]\n",
      " [5 7 8 5]\n",
      " [0 1 0 1]]\n",
      "\n",
      " Sigma matrix is\n",
      "[[16.06956699  0.          0.          0.        ]\n",
      " [ 0.          6.06352027  0.          0.        ]\n",
      " [ 0.          0.          0.05233084  0.        ]]\n",
      "\n",
      " Orthogonal matrix U is\n",
      "[[ 0.65127673 -0.74613335  0.13828828]\n",
      " [ 0.75502211  0.65540701 -0.01957727]\n",
      " [ 0.07602786 -0.11716093 -0.99019851]]\n",
      "\n",
      " Orthogonal matrix V is\n",
      "[[ 0.27545156  0.41739808  0.77204866 -0.39223227]\n",
      " [ 0.65785198 -0.24711365 -0.40001471 -0.58834841]\n",
      " [ 0.41640535  0.74166862 -0.3502686   0.39223227]\n",
      " [ 0.56388279 -0.46329402  0.3481968   0.58834841]]\n",
      "\n",
      " Restruction matrix A is\n",
      "[[ 1.00000000e+00  8.00000000e+00  1.00000000e+00  8.00000000e+00]\n",
      " [ 5.00000000e+00  7.00000000e+00  8.00000000e+00  5.00000000e+00]\n",
      " [ 4.33542091e-14  1.00000000e+00 -4.34097203e-14  1.00000000e+00]]\n"
     ]
    }
   ],
   "source": [
    "import numpy as np\n",
    "\n",
    "A = np.random.randint(10, size=(3, 4))\n",
    "\n",
    "def get_sorted_eig(matrix):\n",
    "    values, vectors = np.linalg.eig(matrix)\n",
    "    #if values[values<0]\n",
    "    idx = values.argsort()[::-1]\n",
    "    values = values[idx]\n",
    "    vectors = vectors.T[idx].T\n",
    "    return values, vectors\n",
    "\n",
    "def SVD(A):\n",
    "    # sort to let columns of U and columns of V corresponds to each other\n",
    "    SV, V = get_sorted_eig(A.T@A)\n",
    "    SU, U = get_sorted_eig(A@A.T)\n",
    "    \n",
    "    # eliminate computation errors\n",
    "    SU[SU<0]=0\n",
    "    lenU = len(SU)\n",
    "    lenV = len(SV)\n",
    "    \n",
    "    S = np.sqrt(SU)\n",
    "    \n",
    "    # determine the sign of column vectors of U\n",
    "    for i in range(min(lenU,lenV)):\n",
    "        if np.allclose(A@ V[:,i], S[i]*U[:,i]) is False:\n",
    "            U[:, i] = -U[:, i]\n",
    "            \n",
    "    S = np.diag(S)\n",
    "    # crop sigma matrix\n",
    "    if lenV > lenU:\n",
    "        S = np.hstack((S, np.zeros((lenU, lenV-lenU))))\n",
    "    elif lenV < lenU:\n",
    "        S = S[:,:lenV]\n",
    "    return S, U, V\n",
    "\n",
    "def main():\n",
    "    S, U, V = SVD(A)\n",
    "\n",
    "    print(\"\\n Original matrix A is\")\n",
    "    print(A)\n",
    "    print(\"\\n Sigma matrix is\")\n",
    "    print(S)\n",
    "    print(\"\\n Orthogonal matrix U is\")\n",
    "    print(U)\n",
    "    print(\"\\n Orthogonal matrix V is\")\n",
    "    print(V)\n",
    "    print(\"\\n Restruction matrix A is\")\n",
    "    print(U@S@V.T)\n",
    "    \n",
    "if __name__==\"__main__\":\n",
    "    main()"
   ]
  }
 ],
 "metadata": {
  "kernelspec": {
   "display_name": "Python 3",
   "language": "python",
   "name": "python3"
  },
  "language_info": {
   "codemirror_mode": {
    "name": "ipython",
    "version": 3
   },
   "file_extension": ".py",
   "mimetype": "text/x-python",
   "name": "python",
   "nbconvert_exporter": "python",
   "pygments_lexer": "ipython3",
   "version": "3.7.3"
  }
 },
 "nbformat": 4,
 "nbformat_minor": 2
}
