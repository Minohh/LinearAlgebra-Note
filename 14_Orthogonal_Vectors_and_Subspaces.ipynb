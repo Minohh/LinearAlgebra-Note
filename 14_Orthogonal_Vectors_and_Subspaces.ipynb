{
 "cells": [
  {
   "cell_type": "markdown",
   "metadata": {},
   "source": [
    "\n",
    "# Definition of Orthogonal\n",
    "If the inner product of two vectors are 0, then they are said to be orthogonal.\n",
    "$$x^T y = 0\\Rightarrow x\\perp y$$\n",
    "\n",
    "The zero vector is orthogonal to everybody.\n",
    "\n",
    "# Subspace Orthogonal\n",
    "\n",
    "If every vector in $S$ is orthogonal to every vector in $T$, then the two sub subspaces are orthogonal.\n",
    "\n",
    "$$s \\perp t\\quad \\forall s\\in S,\\forall t\\in T\\quad \\Rightarrow \\quad S\\perp T$$\n",
    "\n",
    "# Row space is orthogonal to nullspace\n",
    "\n",
    "Consider a matrix $A = \\begin{bmatrix}(\\text{row 1})^T \\\\ (\\text{row 2})^T \\\\ \\vdots\\\\ (\\text{row n})^T\\end{bmatrix}$.\n",
    "- The row space of $A$ is the linear combination of these row vectors. \n",
    " $$c_1(\\text{row 1})^T + c_2(\\text{row 2})^T + \\cdots + c_n(\\text{row n})^T $$\n",
    "- The nullspace of $A$, which is denoted by $x$, shall satisfy the following equation.\n",
    "$$Ax = 0$$\n",
    "\n",
    "We do the multiplication of the equation\n",
    "\n",
    "$$Ax = \\begin{bmatrix}(\\text{row 1})x \\\\ \n",
    "(\\text{row 2})x \\\\\n",
    "\\vdots \\\\\n",
    "(\\text{row n})x\n",
    "\\end{bmatrix}\n",
    " = \\begin{bmatrix}0\\\\0\\\\ \\vdots\\\\0\\end{bmatrix}$$\n",
    " \n",
    " which means $x$ is orthogonal to all the rows of $A$. If we dot product any vector in the row space by $x$\n",
    " \n",
    " $$\\big[c_1(\\text{row 1})^T + c_2(\\text{row 2})^T + \\cdots + c_n(\\text{row n})^T\\big]x = c_1(\\text{row 1})^Tx + c_2(\\text{row 2})^Tx + \\cdots + c_n(\\text{row n})^Tx = 0\\quad \\forall c_1,c_2,\\cdots,c_n$$\n",
    " \n",
    "<font color='red'>Row space is therefore orthogonal to nullspace.</font>\n",
    "\n",
    "$$A_{row} \\perp N(A_{row})$$\n",
    "\n",
    "The row space $A_{row}$ can also be intepreted as the column space of $A^{T}$\n",
    "\n",
    "$$A_{col}^T \\perp N(A_{row})\\Rightarrow A_{col} \\perp N(A_{row}^T)$$\n",
    "\n",
    "<font color='red'>Column space is orthogonal to the nullspace of the row space of $A^{T}$</font>\n",
    "\n",
    "We can look further into this conclusion. *<font color='red'>The row space and nullspace are complements of each other in the whole space.</font> More specifically, in the space $\\mathbb{R}^n$, if the row space is a $k$-dimensional subspace, then its nullspace is a $(n-k)$-dimensional subspace orthogonal to the row space. For example, in a $3$-dimensional space, if the row space is a line, then its null space will be a plane whose lines are all perpendicular to the line in the row space.*"
   ]
  }
 ],
 "metadata": {
  "kernelspec": {
   "display_name": "Python 3",
   "language": "python",
   "name": "python3"
  },
  "language_info": {
   "codemirror_mode": {
    "name": "ipython",
    "version": 3
   },
   "file_extension": ".py",
   "mimetype": "text/x-python",
   "name": "python",
   "nbconvert_exporter": "python",
   "pygments_lexer": "ipython3",
   "version": "3.7.3"
  }
 },
 "nbformat": 4,
 "nbformat_minor": 2
}
