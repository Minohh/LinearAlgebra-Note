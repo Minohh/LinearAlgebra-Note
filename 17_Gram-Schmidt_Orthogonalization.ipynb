{
 "cells": [
  {
   "cell_type": "markdown",
   "metadata": {},
   "source": [
    "# Definition of Orthogonal matrix\n",
    "\n",
    "### Orthonormal vectors\n",
    "$$q_i^Tq_j = \n",
    "\\left\\{\\begin{array}{ll}0 &\\text{if } i\\neq j\\\\\n",
    "1 &\\text{if }i=j\\end{array}\\right.$$\n",
    "\n",
    "### Orthogonal matrix\n",
    "\n",
    "$$Q = [q_1\\ q_2\\ \\cdots\\ q_n]$$\n",
    "\n",
    "And it has the property $Q^T Q = I$\n",
    "\n",
    "If $Q$ is square, then $Q^T = Q^{-1}$\n",
    "\n",
    "# Advantages of using orthogonal matrices\n",
    "\n",
    "\n",
    "# Gram-Schmidt\n"
   ]
  }
 ],
 "metadata": {
  "kernelspec": {
   "display_name": "Python 3",
   "language": "python",
   "name": "python3"
  },
  "language_info": {
   "codemirror_mode": {
    "name": "ipython",
    "version": 3
   },
   "file_extension": ".py",
   "mimetype": "text/x-python",
   "name": "python",
   "nbconvert_exporter": "python",
   "pygments_lexer": "ipython3",
   "version": "3.7.3"
  }
 },
 "nbformat": 4,
 "nbformat_minor": 2
}
