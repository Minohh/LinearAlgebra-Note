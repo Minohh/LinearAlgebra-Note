{
 "cells": [
  {
   "cell_type": "markdown",
   "metadata": {},
   "source": [
    "<a href='https://www.math.wustl.edu/~freiwald/309orthogdiag.pdf'>Orthogonally Diagonalizable Matrices</a>\n",
    "\n",
    "**Theorem** If $A$ is orthogonally diagonalizable, then $A$ must be symmetric.\n",
    "\n",
    "**Proof** $A$ is orthogonally diagonalizable, which means that $A$ can be factorise as the form\n",
    "$$A=S\\Lambda S^{-1}$$\n",
    "where $S$ is a $n\\times n$ matrix with each eigenvectors of $A$ as columns inside. These eigenvectors are orthogonal to each other. And $\\Lambda$ is the diagonal matrix. Each element on the diagonal is a eigenvalue.\n",
    "$$\\begin{align*}\n",
    "A&=S\\Lambda S^{-1}\\\\\n",
    "&=S\\Lambda S^T \\qquad S\\ is\\ orthogonal\\\\\n",
    "&=S^{TT}\\Lambda^TS^T\\qquad \\Lambda\\ is\\ diagonal\\ (symmetric)\\\\\n",
    "&=(S\\Lambda S^T)^T\\qquad   (AB)^T=B^TA^T\\\\\n",
    "&=A^T\n",
    "\\end{align*}$$\n",
    "\n",
    "---------------\n",
    "\n",
    "**Theorem** If $A$ is a (real) $n\\times n$ symmetric matrix, then $A$ has $n$ real eigenvalues (counted by their multiplicities). For each eigenvalue, we can find a real eigenvector associated with it.\n",
    "\n",
    "**Proof**\n",
    "For any complex vector $z=\\begin{bmatrix}z_1\\\\ \\vdots\\\\z_n\\end{bmatrix}\\in \\mathbb{C}^n$, calculate the scalar $q$ which is given by\n",
    "$$\\begin{align*}\n",
    "q\n",
    "&=\\bar{z}^TAz\\qquad \\bar{z}^T=[\\bar{z_1}\\cdots\\bar{z_n}]\\\\\n",
    "&=\\bar{z}\\cdot Az\\\\\n",
    "&=A\\bar{z}\\cdot z\\qquad A\\ is\\ symmetric\\\\\n",
    "&=z\\cdot A\\bar{z}\\\\\n",
    "&=z^TA\\bar{z}\\qquad z^T=[z_1\\cdots z_n]\\\\\n",
    "&=z^T\\bar{A}\\bar{z}\\qquad A\\ is\\ real\\\\\n",
    "&=\\bar{q}\n",
    "\\end{align*}$$\n",
    "Let $\\lambda_i$ be an eigenvalue and let $z=\\begin{bmatrix}z_1\\\\ \\vdots\\\\z_n\\end{bmatrix}$ be one of its eigenvectors. Then\n",
    "$$\\begin{align*}\\bar{z}^TAz&=\\bar{z}^T\\lambda_iz=\\lambda_i\\bar{z}^Tz=\\lambda_i(\\bar{z}\\cdot z)\\\\\n",
    "&=\\lambda_i(\\bar{z_1}\\cdot z_1+\\bar{z_2}\\cdot z_2+\\cdots+\\bar{z_n}\\cdot z_n)\\\\\n",
    "&=\\lambda_i(|z_1|^2+\\cdots+|z_n|^2)\\end{align*}$$\n",
    "where $\\bar{z}^TAz$ is real and $(|z_1|^2+\\cdots+|z_n|^2)$, so $\\lambda_i$ is real."
   ]
  }
 ],
 "metadata": {
  "kernelspec": {
   "display_name": "Python 3",
   "language": "python",
   "name": "python3"
  },
  "language_info": {
   "codemirror_mode": {
    "name": "ipython",
    "version": 3
   },
   "file_extension": ".py",
   "mimetype": "text/x-python",
   "name": "python",
   "nbconvert_exporter": "python",
   "pygments_lexer": "ipython3",
   "version": "3.7.3"
  }
 },
 "nbformat": 4,
 "nbformat_minor": 2
}
